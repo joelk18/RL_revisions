{
 "cells": [
  {
   "cell_type": "code",
   "execution_count": 4,
   "id": "cf9915f3",
   "metadata": {},
   "outputs": [],
   "source": [
    "from environment import TicTacToe\n",
    "from ray.rllib.algorithms.ppo import PPOConfig\n",
    "from ray.rllib.connectors.env_to_module import FlattenObservations\n",
    "from ray.rllib.core.rl_module.rl_module import RLModuleSpec\n",
    "from ray.rllib.core.rl_module.multi_rl_module import MultiRLModuleSpec\n",
    "from ray.rllib.algorithms.bc.torch.default_bc_torch_rl_module import DefaultBCTorchRLModule\n",
    "from ray.rllib.core.rl_module.default_model_config import DefaultModelConfig\n",
    "from rl_module import VPGTorchRLModule\n",
    "import numpy as np\n",
    "import torch\n",
    "import matplotlib.pyplot as plt\n",
    "from ray.rllib.core.rl_module.rl_module import RLModule"
   ]
  },
  {
   "cell_type": "code",
   "execution_count": 17,
   "id": "86dd3ccb",
   "metadata": {},
   "outputs": [],
   "source": [
    "player1 = RLModule.from_checkpoint(\"C:/Users/kouas/Documents/RL_revisions/tic_tac_toe/weights/learner_group/learner/rl_module/p1\")"
   ]
  },
  {
   "cell_type": "code",
   "execution_count": 18,
   "id": "79eca36f",
   "metadata": {},
   "outputs": [
    {
     "data": {
      "text/plain": [
       "VPGTorchRLModule(\n",
       "  (_policy_net): Sequential(\n",
       "    (0): Linear(in_features=9, out_features=32, bias=True)\n",
       "    (1): ReLU()\n",
       "    (2): Linear(in_features=32, out_features=9, bias=True)\n",
       "  )\n",
       "  (_value_function): Sequential(\n",
       "    (0): Linear(in_features=9, out_features=16, bias=True)\n",
       "    (1): ReLU()\n",
       "    (2): Linear(in_features=16, out_features=1, bias=True)\n",
       "  )\n",
       ")"
      ]
     },
     "execution_count": 18,
     "metadata": {},
     "output_type": "execute_result"
    }
   ],
   "source": [
    "player1"
   ]
  },
  {
   "cell_type": "code",
   "execution_count": 2,
   "id": "f27ae486",
   "metadata": {},
   "outputs": [],
   "source": [
    "env = TicTacToe(config={\"render\": \"human\"})"
   ]
  },
  {
   "cell_type": "code",
   "execution_count": 3,
   "id": "b3ffa3a2",
   "metadata": {},
   "outputs": [],
   "source": [
    "config = (\n",
    "    PPOConfig()\n",
    "    # FrozenLake has a discrete observation space (ints).\n",
    "    .environment(TicTacToe,\n",
    "                 env_config={\"render\": \"human\"})\n",
    "    .env_runners(\n",
    "        num_env_runners=3,\n",
    "        num_envs_per_env_runner=2,\n",
    "        batch_mode=\"complete_episodes\",\n",
    "    )\n",
    "    .multi_agent(\n",
    "        policies={\"p1\", \"p2\"},\n",
    "        policy_mapping_fn=lambda agent_id, episode, **kw: f\"p{agent_id[-1]}\",\n",
    "        \n",
    "\n",
    "    )\n",
    "    .rl_module(\n",
    "        rl_module_spec=MultiRLModuleSpec(\n",
    "            rl_module_specs={\n",
    "                \"p1\": RLModuleSpec(\n",
    "                    module_class=VPGTorchRLModule,\n",
    "                    model_config={\"hidden_dim_actor\": 32,\n",
    "                                  \"hidden_dim_critic\": 16,\n",
    "                                  \"agent_name\": \"player1\"},\n",
    "                    observation_space=env.observation_spaces[\"player1\"],\n",
    "                ),\n",
    "                \"p2\": RLModuleSpec(\n",
    "                    module_class=VPGTorchRLModule,\n",
    "                    model_config={\"hidden_dim_actor\": 8,\n",
    "                                  \"hidden_dim_critic\": 8,\n",
    "                                  \"agent_name\": \"player2\"},\n",
    "                    observation_space=env.observation_spaces[\"player2\"]\n",
    "                ),\n",
    "            }\n",
    "        )\n",
    "    )\n",
    "    .training(use_critic=True,\n",
    "              use_gae=True,\n",
    "              lr=0.03,\n",
    "              train_batch_size_per_learner=20000,\n",
    "              minibatch_size=3080,\n",
    "              num_epochs=3\n",
    "              )  # Enable critic and GAE\n",
    "    .evaluation(evaluation_interval=1,\n",
    "                evaluation_duration_unit=\"episodes\",\n",
    "                evaluation_duration=5)\n",
    ")"
   ]
  },
  {
   "cell_type": "code",
   "execution_count": 4,
   "id": "1e22b9eb",
   "metadata": {},
   "outputs": [
    {
     "name": "stderr",
     "output_type": "stream",
     "text": [
      "2025-04-12 22:28:57,198\tWARNING algorithm_config.py:4704 -- You are running PPO on the new API stack! This is the new default behavior for this algorithm. If you don't want to use the new API stack, set `config.api_stack(enable_rl_module_and_learner=False,enable_env_runner_and_connector_v2=False)`. For a detailed migration guide, see here: https://docs.ray.io/en/master/rllib/new-api-stack-migration-guide.html\n",
      "2025-04-12 22:29:00,280\tINFO worker.py:1852 -- Started a local Ray instance.\n",
      "\u001b[36m(MultiAgentEnvRunner pid=2988)\u001b[0m 2025-04-12 22:29:05,260\tWARNING deprecation.py:50 -- DeprecationWarning: `RLModule(config=[RLModuleConfig object])` has been deprecated. Use `RLModule(observation_space=.., action_space=.., inference_only=.., model_config=.., catalog_class=..)` instead. This will raise an error in the future!\n",
      "2025-04-12 22:29:05,599\tWARNING deprecation.py:50 -- DeprecationWarning: `RLModule(config=[RLModuleConfig object])` has been deprecated. Use `RLModule(observation_space=.., action_space=.., inference_only=.., model_config=.., catalog_class=..)` instead. This will raise an error in the future!\n",
      "c:\\Users\\kouas\\Documents\\RL_revisions\\venv\\lib\\site-packages\\gymnasium\\envs\\registration.py:642: UserWarning: \u001b[33mWARN: Overriding environment rllib-multi-agent-env-v0 already in registry.\u001b[0m\n",
      "  logger.warn(f\"Overriding environment {new_spec.id} already in registry.\")\n",
      "2025-04-12 22:29:07,075\tWARNING util.py:61 -- Install gputil for GPU system monitoring.\n"
     ]
    }
   ],
   "source": [
    "ppo = config.build_algo()"
   ]
  },
  {
   "cell_type": "code",
   "execution_count": 5,
   "id": "848a0f40",
   "metadata": {},
   "outputs": [
    {
     "name": "stdout",
     "output_type": "stream",
     "text": [
      "the winner is:  player2\n",
      "the winner is:  player1\n",
      "the winner is:  player2\n",
      "the winner is:  player2\n",
      "--------------------------------\n",
      "Iteration 1:\n",
      "--------------------------------\n",
      "the winner is:  player1\n",
      "the winner is:  player1\n",
      "the winner is:  player1\n",
      "the winner is:  player1\n",
      "the winner is:  player1\n",
      "--------------------------------\n",
      "Iteration 2:\n",
      "--------------------------------\n",
      "the winner is:  player1\n",
      "the winner is:  player1\n",
      "the winner is:  player1\n",
      "the winner is:  player2\n",
      "the winner is:  player2\n",
      "--------------------------------\n",
      "Iteration 3:\n",
      "--------------------------------\n",
      "the winner is:  player1\n",
      "the winner is:  player2\n",
      "the winner is:  player2\n",
      "the winner is:  player1\n",
      "the winner is:  player1\n",
      "--------------------------------\n",
      "Iteration 4:\n",
      "--------------------------------\n",
      "the winner is:  player1\n",
      "the winner is:  player1\n",
      "the winner is:  player2\n",
      "the winner is:  player1\n",
      "the winner is:  player2\n",
      "the winner is:  player2\n",
      "--------------------------------\n",
      "Iteration 5:\n",
      "--------------------------------\n",
      "the winner is:  player1\n",
      "the winner is:  player1\n",
      "the winner is:  player2\n",
      "the winner is:  player1\n",
      "--------------------------------\n",
      "Iteration 6:\n",
      "--------------------------------\n",
      "the winner is:  player2\n",
      "the winner is:  player2\n",
      "the winner is:  player1\n",
      "the winner is:  player1\n",
      "the winner is:  player2\n",
      "--------------------------------\n",
      "Iteration 7:\n",
      "--------------------------------\n",
      "the winner is:  player2\n",
      "the winner is:  player1\n",
      "the winner is:  player1\n",
      "the winner is:  player1\n",
      "the winner is:  player2\n",
      "--------------------------------\n",
      "Iteration 8:\n",
      "--------------------------------\n",
      "the winner is:  player1\n",
      "the winner is:  player1\n",
      "the winner is:  player2\n",
      "--------------------------------\n",
      "Iteration 9:\n",
      "--------------------------------\n",
      "the winner is:  player2\n",
      "the winner is:  player1\n",
      "the winner is:  player1\n",
      "the winner is:  player2\n",
      "--------------------------------\n",
      "Iteration 10:\n",
      "--------------------------------\n",
      "the winner is:  player2\n",
      "the winner is:  player2\n",
      "the winner is:  player1\n",
      "--------------------------------\n",
      "Iteration 11:\n",
      "--------------------------------\n",
      "the winner is:  player1\n",
      "the winner is:  player2\n",
      "the winner is:  player1\n",
      "--------------------------------\n",
      "Iteration 12:\n",
      "--------------------------------\n",
      "the winner is:  player2\n",
      "the winner is:  player1\n",
      "the winner is:  player1\n",
      "the winner is:  player1\n",
      "the winner is:  player2\n",
      "--------------------------------\n",
      "Iteration 13:\n",
      "--------------------------------\n",
      "the winner is:  player1\n",
      "the winner is:  player1\n",
      "the winner is:  player1\n",
      "the winner is:  player1\n",
      "the winner is:  player2\n",
      "--------------------------------\n",
      "Iteration 14:\n",
      "--------------------------------\n",
      "the winner is:  player1\n",
      "the winner is:  player1\n",
      "--------------------------------\n",
      "Iteration 15:\n",
      "--------------------------------\n",
      "the winner is:  player2\n",
      "the winner is:  player1\n",
      "the winner is:  player1\n",
      "the winner is:  player1\n",
      "--------------------------------\n",
      "Iteration 16:\n",
      "--------------------------------\n",
      "the winner is:  player1\n",
      "the winner is:  player2\n",
      "the winner is:  player1\n",
      "the winner is:  player2\n",
      "--------------------------------\n",
      "Iteration 17:\n",
      "--------------------------------\n",
      "the winner is:  player1\n",
      "--------------------------------\n",
      "Iteration 18:\n",
      "--------------------------------\n",
      "the winner is:  player1\n",
      "the winner is:  player1\n",
      "the winner is:  player1\n",
      "--------------------------------\n",
      "Iteration 19:\n",
      "--------------------------------\n",
      "the winner is:  player1\n",
      "the winner is:  player1\n",
      "the winner is:  player1\n",
      "--------------------------------\n",
      "Iteration 20:\n",
      "--------------------------------\n",
      "the winner is:  player1\n",
      "the winner is:  player1\n",
      "--------------------------------\n",
      "Iteration 21:\n",
      "--------------------------------\n",
      "the winner is:  player1\n",
      "the winner is:  player1\n",
      "--------------------------------\n",
      "Iteration 22:\n",
      "--------------------------------\n",
      "the winner is:  player1\n",
      "--------------------------------\n",
      "Iteration 23:\n",
      "--------------------------------\n",
      "the winner is:  player1\n",
      "the winner is:  player1\n",
      "the winner is:  player1\n",
      "the winner is:  player1\n",
      "--------------------------------\n",
      "Iteration 24:\n",
      "--------------------------------\n",
      "the winner is:  player1\n",
      "the winner is:  player1\n",
      "the winner is:  player1\n",
      "--------------------------------\n",
      "Iteration 25:\n",
      "--------------------------------\n",
      "the winner is:  player1\n",
      "--------------------------------\n",
      "Iteration 26:\n",
      "--------------------------------\n",
      "the winner is:  player1\n",
      "--------------------------------\n",
      "Iteration 27:\n",
      "--------------------------------\n",
      "the winner is:  player1\n",
      "the winner is:  player1\n",
      "--------------------------------\n",
      "Iteration 28:\n",
      "--------------------------------\n",
      "the winner is:  player1\n",
      "--------------------------------\n",
      "Iteration 29:\n",
      "--------------------------------\n",
      "the winner is:  player1\n",
      "the winner is:  player1\n",
      "--------------------------------\n",
      "Iteration 30:\n",
      "--------------------------------\n",
      "--------------------------------\n",
      "Iteration 31:\n",
      "--------------------------------\n",
      "--------------------------------\n",
      "Iteration 32:\n",
      "--------------------------------\n",
      "--------------------------------\n",
      "Iteration 33:\n",
      "--------------------------------\n",
      "--------------------------------\n",
      "Iteration 34:\n",
      "--------------------------------\n",
      "--------------------------------\n",
      "Iteration 35:\n",
      "--------------------------------\n",
      "the winner is:  player1\n",
      "the winner is:  player1\n",
      "the winner is:  player1\n",
      "--------------------------------\n",
      "Iteration 36:\n",
      "--------------------------------\n",
      "the winner is:  player1\n",
      "--------------------------------\n",
      "Iteration 37:\n",
      "--------------------------------\n",
      "the winner is:  player1\n",
      "the winner is:  player1\n",
      "--------------------------------\n",
      "Iteration 38:\n",
      "--------------------------------\n",
      "the winner is:  player1\n",
      "the winner is:  player1\n",
      "--------------------------------\n",
      "Iteration 39:\n",
      "--------------------------------\n",
      "the winner is:  player1\n",
      "the winner is:  player1\n",
      "the winner is:  player1\n",
      "--------------------------------\n",
      "Iteration 40:\n",
      "--------------------------------\n"
     ]
    }
   ],
   "source": [
    "# Initialize lists to store rewards for each agent\n",
    "test_rewards_p1 = []\n",
    "test_rewards_p2 = []\n",
    "episodes = []\n",
    "\n",
    "# Training loop\n",
    "for i in range(40):  # Train for 100 iterations\n",
    "    train_results = ppo.train()\n",
    "    \n",
    "    # Extract rewards for each agent\n",
    "    test_rewards_p1.append(train_results[\"env_runners\"][\"agent_episode_returns_mean\"][\"player1\"])\n",
    "    test_rewards_p2.append(train_results[\"env_runners\"][\"agent_episode_returns_mean\"][\"player2\"])\n",
    "    print(\"--------------------------------\")\n",
    "    print(f\"Iteration {i + 1}:\")\n",
    "    print(\"--------------------------------\")\n",
    "    episodes.append(i + 1)"
   ]
  },
  {
   "cell_type": "code",
   "execution_count": 6,
   "id": "9d76b5f8",
   "metadata": {},
   "outputs": [
    {
     "data": {
      "image/png": "[encoded data removed]",
      "text/plain": [
       "<Figure size 1000x600 with 1 Axes>"
      ]
     },
     "metadata": {},
     "output_type": "display_data"
    }
   ],
   "source": [
    "# Plot rewards for both agents\n",
    "plt.figure(figsize=(10, 6))\n",
    "plt.plot(episodes, test_rewards_p1, label=\"Player 1 Reward\")\n",
    "plt.plot(episodes, test_rewards_p2, label=\"Player 2 Reward\")\n",
    "plt.xlabel(\"Episodes\")\n",
    "plt.ylabel(\"Reward\")\n",
    "plt.title(\"Reward vs. Episodes (Multi-Agent)\")\n",
    "plt.legend()\n",
    "plt.grid()\n",
    "plt.show()"
   ]
  },
  {
   "cell_type": "code",
   "execution_count": null,
   "id": "9c190861",
   "metadata": {},
   "outputs": [],
   "source": [
    "print(\"mean reward player1: \", np.mean(test_rewards_p1))\n",
    "print(\"mean reward player2: \", np.mean(test_rewards_p2))"
   ]
  },
  {
   "cell_type": "code",
   "execution_count": 7,
   "id": "7644cdad",
   "metadata": {},
   "outputs": [
    {
     "data": {
      "text/plain": [
       "'c:\\\\Users\\\\kouas\\\\Documents\\\\RL_revisions\\\\tic_tac_toe\\\\weights'"
      ]
     },
     "execution_count": 7,
     "metadata": {},
     "output_type": "execute_result"
    }
   ],
   "source": [
    "ppo.save_to_path(\"c:/Users/kouas/Documents/RL_revisions/tic_tac_toe/weights/\")"
   ]
  },
  {
   "cell_type": "code",
   "execution_count": null,
   "id": "a05660ce",
   "metadata": {},
   "outputs": [],
   "source": [
    "ppo = config.build_algo()"
   ]
  },
  {
   "cell_type": "code",
   "execution_count": 5,
   "id": "325061b4",
   "metadata": {},
   "outputs": [],
   "source": [
    "ppo.restore_from_path(\"c:/Users/kouas/Documents/RL_revisions/tic_tac_toe/weights/\")"
   ]
  },
  {
   "cell_type": "code",
   "execution_count": 6,
   "id": "61ee90bf",
   "metadata": {},
   "outputs": [],
   "source": [
    "agent_1 = ppo.get_module(\"p1\")\n",
    "agent_2 = ppo.get_module(\"p2\")"
   ]
  },
  {
   "cell_type": "code",
   "execution_count": 2,
   "id": "24bc5925",
   "metadata": {},
   "outputs": [
    {
     "ename": "NameError",
     "evalue": "name 'env' is not defined",
     "output_type": "error",
     "traceback": [
      "\u001b[1;31m---------------------------------------------------------------------------\u001b[0m",
      "\u001b[1;31mNameError\u001b[0m                                 Traceback (most recent call last)",
      "Cell \u001b[1;32mIn[2], line 2\u001b[0m\n\u001b[0;32m      1\u001b[0m \u001b[38;5;66;03m#Simulate a game\u001b[39;00m\n\u001b[1;32m----> 2\u001b[0m obs, _ \u001b[38;5;241m=\u001b[39m \u001b[43menv\u001b[49m\u001b[38;5;241m.\u001b[39mreset()\n\u001b[0;32m      3\u001b[0m terminated \u001b[38;5;241m=\u001b[39m {\u001b[38;5;124m\"\u001b[39m\u001b[38;5;124m__all__\u001b[39m\u001b[38;5;124m\"\u001b[39m: \u001b[38;5;28;01mFalse\u001b[39;00m}\n\u001b[0;32m      4\u001b[0m env\u001b[38;5;241m.\u001b[39mrender()\n",
      "\u001b[1;31mNameError\u001b[0m: name 'env' is not defined"
     ]
    }
   ],
   "source": [
    "#Simulate a game\n",
    "obs, _ = env.reset()\n",
    "terminated = {\"__all__\": False}\n",
    "env.render()\n",
    "while not terminated[\"__all__\"]:\n",
    "    if obs.get(np.str_('player1'), 0):\n",
    "        #player 1's turn\n",
    "        player_1_obs = obs.get(np.str_('player1'), 0)\n",
    "        #convert to tensor\n",
    "        player_1_obs[\"observation\"] = torch.from_numpy(player_1_obs[\"observation\"]).float()\n",
    "        player_1_obs[\"action_mask\"] = torch.from_numpy(player_1_obs[\"action_mask\"]).float()\n",
    "        action_distribution = agent_1._forward_inference(\n",
    "            {\"obs\": player_1_obs}\n",
    "        )\n",
    "        action = action_distribution[\"action_dist_inputs\"].argmax().item()\n",
    "        obs, reward, terminated, truncated, info = env.step({\"player1\": action})\n",
    "    else:\n",
    "        #player 2's turn\n",
    "        player_2_obs = obs.get(np.str_('player2'), 0)\n",
    "        #convert to tensor\n",
    "        player_2_obs[\"observation\"] = torch.from_numpy(player_2_obs[\"observation\"]).float()\n",
    "        player_2_obs[\"action_mask\"] = torch.from_numpy(player_2_obs[\"action_mask\"]).float()\n",
    "        action_distribution = agent_2._forward_inference(\n",
    "            {\"obs\": player_2_obs}\n",
    "        )\n",
    "        action = action_distribution[\"action_dist_inputs\"].argmax().item()\n",
    "        obs, reward, terminated, truncated, info = env.step({\"player2\": action})\n",
    "    env.render()"
   ]
  },
  {
   "cell_type": "code",
   "execution_count": 1,
   "id": "c2ab7ca2",
   "metadata": {},
   "outputs": [
    {
     "data": {
      "text/plain": [
       "[0, 1, 2, 3, 4, 5, 6, 7, 8]"
      ]
     },
     "execution_count": 1,
     "metadata": {},
     "output_type": "execute_result"
    }
   ],
   "source": [
    "list(range(0, 9))"
   ]
  },
  {
   "cell_type": "code",
   "execution_count": null,
   "id": "f7230d62",
   "metadata": {},
   "outputs": [],
   "source": [
    "list(range(0, 9))[::3]"
   ]
  },
  {
   "cell_type": "code",
   "execution_count": null,
   "id": "aa25a2ea",
   "metadata": {},
   "outputs": [],
   "source": [
    "terminated"
   ]
  },
  {
   "cell_type": "code",
   "execution_count": null,
   "id": "51a37086",
   "metadata": {},
   "outputs": [],
   "source": [
    "action_distribution[\"action_dist_inputs\"].argmax().item()"
   ]
  },
  {
   "cell_type": "code",
   "execution_count": null,
   "id": "0d7548ac",
   "metadata": {},
   "outputs": [],
   "source": [
    "# Restore the trained PPO model\n",
    "restored_ppo = config.build_algo()\n",
    "restored_ppo.restore_from_path(\"c:/Users/kouas/Documents/RL_revisions/rock_paper_cisor/weights/\")"
   ]
  },
  {
   "cell_type": "code",
   "execution_count": null,
   "id": "2708834c",
   "metadata": {},
   "outputs": [],
   "source": [
    "restored_ppo.evaluate()"
   ]
  },
  {
   "cell_type": "code",
   "execution_count": null,
   "id": "00cdbdb2",
   "metadata": {},
   "outputs": [],
   "source": [
    "agent_1 = restored_ppo.get_module(\"p1\")"
   ]
  },
  {
   "cell_type": "code",
   "execution_count": null,
   "id": "6acffbc4",
   "metadata": {},
   "outputs": [],
   "source": [
    "agent_1"
   ]
  },
  {
   "cell_type": "code",
   "execution_count": null,
   "id": "f6be1226",
   "metadata": {},
   "outputs": [],
   "source": [
    "obs, _ = env.reset()"
   ]
  },
  {
   "cell_type": "code",
   "execution_count": null,
   "id": "aa98a747",
   "metadata": {},
   "outputs": [],
   "source": [
    "obs"
   ]
  },
  {
   "cell_type": "code",
   "execution_count": null,
   "id": "41f0718c",
   "metadata": {},
   "outputs": [],
   "source": [
    "to_send = {\"obs\": torch.tensor(list(obs.values())[0]).reshape(1, -1)}"
   ]
  },
  {
   "cell_type": "code",
   "execution_count": null,
   "id": "42f96842",
   "metadata": {},
   "outputs": [],
   "source": [
    "to_send"
   ]
  },
  {
   "cell_type": "code",
   "execution_count": null,
   "id": "6ad9fc10",
   "metadata": {},
   "outputs": [],
   "source": [
    "agent_1.forward(to_send)"
   ]
  }
 ],
 "metadata": {
  "kernelspec": {
   "display_name": "venv",
   "language": "python",
   "name": "python3"
  },
  "language_info": {
   "codemirror_mode": {
    "name": "ipython",
    "version": 3
   },
   "file_extension": ".py",
   "mimetype": "text/x-python",
   "name": "python",
   "nbconvert_exporter": "python",
   "pygments_lexer": "ipython3",
   "version": "3.10.1"
  }
 },
 "nbformat": 4,
 "nbformat_minor": 5
}
